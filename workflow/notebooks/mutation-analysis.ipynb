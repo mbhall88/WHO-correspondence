{
 "cells": [
  {
   "cell_type": "code",
   "execution_count": 1,
   "id": "d5eeb84d",
   "metadata": {},
   "outputs": [],
   "source": [
    "import pandas as pd\n",
    "import json\n",
    "from pathlib import Path\n",
    "import numpy as np\n",
    "from enum import Enum\n",
    "from typing import Tuple\n",
    "from dataclasses import dataclass\n",
    "from collections import Counter, defaultdict\n",
    "import re"
   ]
  },
  {
   "cell_type": "code",
   "execution_count": 2,
   "id": "84c704fb",
   "metadata": {},
   "outputs": [],
   "source": [
    "def split_var_name(name: str) -> Tuple[str, int, str]:\n",
    "    items = re.match(r\"([A-Z]+)([-0-9]+)([A-Z/\\*]+)\", name, re.I).groups()\n",
    "    return items[0], int(items[1]), items[2]"
   ]
  },
  {
   "cell_type": "code",
   "execution_count": 3,
   "id": "216eed87",
   "metadata": {},
   "outputs": [],
   "source": [
    "csvs = list(Path(\"../../results/amr_predictions/\").glob(\"*.csv\"))\n",
    "qc = pd.read_csv(\"../../results/qc.csv\")\n",
    "cov_threshold = 15\n",
    "phenotypes = pd.read_csv(\"../../docs/samplesheet.csv\", index_col=\"run\")\n",
    "ignore_drugs = {\"Ciprofloxacin\", \"Ofloxacin\"}\n",
    "minor_is_susceptible = False\n",
    "panel_names = {\n",
    "    \"previous\": \"Walker et al.\",\n",
    "    \"who2021\": \"WHO only\",\n",
    "    \"hunt2019\": \"Mykrobe\",\n",
    "    \"hall2022\": \"Combined\"\n",
    "}\n",
    "who_results = pd.read_csv(\"../../docs/who-results.csv\")\n",
    "CONF = 0.95"
   ]
  },
  {
   "cell_type": "code",
   "execution_count": 4,
   "id": "8eef85ff",
   "metadata": {},
   "outputs": [],
   "source": [
    "frames = []\n",
    "for p in csvs:\n",
    "    frames.append(pd.read_csv(p))\n",
    "\n",
    "df = pd.concat(frames).reset_index(drop=True)"
   ]
  },
  {
   "cell_type": "code",
   "execution_count": 5,
   "id": "1482165a",
   "metadata": {},
   "outputs": [
    {
     "data": {
      "text/plain": [
       "8160"
      ]
     },
     "execution_count": 5,
     "metadata": {},
     "output_type": "execute_result"
    }
   ],
   "source": [
    "passed_qc = set(qc.query(\"coverage >= @cov_threshold\")[\"run\"])\n",
    "len(passed_qc)"
   ]
  },
  {
   "cell_type": "code",
   "execution_count": 6,
   "id": "02c29920",
   "metadata": {},
   "outputs": [],
   "source": [
    "df = df.query(\"run in @passed_qc\")"
   ]
  },
  {
   "cell_type": "code",
   "execution_count": 7,
   "id": "1fdb32ad",
   "metadata": {},
   "outputs": [],
   "source": [
    "class Prediction(Enum):\n",
    "    Resistant = \"R\"\n",
    "    Susceptible = \"S\"\n",
    "    MinorResistance = \"r\"\n",
    "\n",
    "    def __str__(self) -> str:\n",
    "        return self.value\n",
    "    \n",
    "class Classification(Enum):\n",
    "    TruePositive = \"TP\"\n",
    "    FalsePositive = \"FP\"\n",
    "    TrueNegative = \"TN\"\n",
    "    FalseNegative = \"FN\"\n",
    "\n",
    "    def __str__(self) -> str:\n",
    "        return self.value\n",
    "    \n",
    "class Classification(Enum):\n",
    "    TruePositive = \"TP\"\n",
    "    FalsePositive = \"FP\"\n",
    "    TrueNegative = \"TN\"\n",
    "    FalseNegative = \"FN\"\n",
    "\n",
    "    def __str__(self) -> str:\n",
    "        return self.value\n",
    "\n",
    "\n",
    "class Classifier:\n",
    "    def __init__(\n",
    "        self,\n",
    "        minor_is_susceptible: bool = False,\n",
    "    ):\n",
    "        self.minor_is_susceptible = minor_is_susceptible\n",
    "        self.susceptible = {Prediction.Susceptible}\n",
    "        self.resistant = {Prediction.Resistant}\n",
    "        if self.minor_is_susceptible:\n",
    "            self.susceptible.add(Prediction.MinorResistance)\n",
    "        else:\n",
    "            self.resistant.add(Prediction.MinorResistance)\n",
    "\n",
    "\n",
    "    def from_predictions(\n",
    "        self, y_true: Prediction, y_pred: Prediction\n",
    "    ) -> Classification:\n",
    "        if y_true in self.susceptible:\n",
    "            expected_susceptible = True\n",
    "        elif y_true in self.resistant:\n",
    "            expected_susceptible = False\n",
    "        else:\n",
    "            raise NotImplementedError(f\"Don't know how to classify {y_true} calls yet\")\n",
    "\n",
    "        if y_pred in self.susceptible:\n",
    "            called_susceptible = True\n",
    "        elif y_pred in self.resistant:\n",
    "            called_susceptible = False\n",
    "        else:\n",
    "            raise NotImplementedError(f\"Don't know how to classify {y_pred} calls yet\")\n",
    "\n",
    "        if expected_susceptible and called_susceptible:\n",
    "            return Classification.TrueNegative\n",
    "        elif expected_susceptible and not called_susceptible:\n",
    "            return Classification.FalsePositive\n",
    "        elif not expected_susceptible and not called_susceptible:\n",
    "            return Classification.TruePositive\n",
    "        else:\n",
    "            return Classification.FalseNegative\n",
    "\n",
    "@dataclass\n",
    "class ConfusionMatrix:\n",
    "    tp: int = 0\n",
    "    tn: int = 0\n",
    "    fp: int = 0\n",
    "    fn: int = 0\n",
    "\n",
    "    def ravel(self) -> Tuple[int, int, int, int]:\n",
    "        \"\"\"Return the matrix as a flattened tuple.\n",
    "        The order of return is TN, FP, FN, TP\n",
    "        \"\"\"\n",
    "        return self.tn, self.fp, self.fn, self.tp\n",
    "\n",
    "    def as_matrix(self) -> np.ndarray:\n",
    "        \"\"\"Returns a 2x2 matrix [[TN, FP], [FN, TP]]\"\"\"\n",
    "        return np.array([[self.tn, self.fp], [self.fn, self.tp]])\n",
    "\n",
    "    def num_positive(self) -> int:\n",
    "        \"\"\"Number of TPs and FNs - i.e. actual condition positive\"\"\"\n",
    "        return self.tp + self.fn\n",
    "\n",
    "    def num_negative(self) -> int:\n",
    "        \"\"\"Number of TNs and FPs - i.e. actual condition negative\"\"\"\n",
    "        return self.tn + self.fp\n",
    "\n",
    "    def ppv(self) -> Tuple[float, float, float]:\n",
    "        \"\"\"Also known as precision\"\"\"\n",
    "        try:\n",
    "            ppv = self.tp / (self.tp + self.fp)\n",
    "            lwr_bound, upr_bound = confidence_interval(n_s=self.tp, n_f=self.fp)\n",
    "            return ppv, lwr_bound, upr_bound\n",
    "        except ZeroDivisionError:\n",
    "            return [None, None, None]\n",
    "\n",
    "    def npv(self) -> Tuple[float, float, float]:\n",
    "        \"\"\"Negative predictive value\"\"\"\n",
    "        try:\n",
    "            npv = self.tn / (self.tn + self.fn)\n",
    "            lwr_bound, upr_bound = confidence_interval(n_s=self.tn, n_f=self.fn)\n",
    "            return npv, lwr_bound, upr_bound\n",
    "        except ZeroDivisionError:\n",
    "            return [None, None, None]\n",
    "\n",
    "    def sensitivity(self) -> Tuple[float, float, float]:\n",
    "        \"\"\"Also known as recall and true positive rate (TPR)\"\"\"\n",
    "        try:\n",
    "            sn =  self.tp / self.num_positive()\n",
    "            lwr_bound, upr_bound = confidence_interval(n_s=self.tp, n_f=self.fn)\n",
    "            return sn, lwr_bound, upr_bound\n",
    "        except ZeroDivisionError:\n",
    "            return None, None, None\n",
    "\n",
    "    def specificity(self) -> Tuple[float, float, float]:\n",
    "        \"\"\"Also known as selectivity and true negative rate (TNR)\"\"\"\n",
    "        try:\n",
    "            sp = self.tn / self.num_negative()\n",
    "            lwr_bound, upr_bound = confidence_interval(n_s=self.tn, n_f=self.fp)\n",
    "            return sp, lwr_bound, upr_bound\n",
    "        except ZeroDivisionError:\n",
    "            return None, None, None\n",
    "\n",
    "    def fnr(self) -> Tuple[float, float, float]:\n",
    "        \"\"\"False negative rate or VME (very major error rate)\"\"\"\n",
    "        try:\n",
    "            fnr = self.fn / self.num_positive()\n",
    "            lwr_bound, upr_bound = confidence_interval(n_s=self.fn, n_f=self.tp)\n",
    "            return fnr, lwr_bound, upr_bound\n",
    "        except ZeroDivisionError:\n",
    "            return [None, None, None]\n",
    "\n",
    "    def fpr(self) -> Tuple[float, float, float]:\n",
    "        \"\"\"False positive rate or ME (major error rate)\"\"\"\n",
    "        try:\n",
    "            fpr = self.fp / self.num_negative()\n",
    "            lwr_bound, upr_bound = confidence_interval(n_s=self.fp, n_f=self.tn)\n",
    "            return fpr, lwr_bound, upr_bound\n",
    "        except ZeroDivisionError:\n",
    "            return [None, None, None]\n",
    "\n",
    "    def f_score(self, beta: float = 1.0) -> float:\n",
    "        \"\"\"Harmonic mean of precision and recall.\n",
    "        When beta is set to 0, you get precision. When beta is set to 1, you get the\n",
    "        unweighted F-score which is the harmonic mean of precision and recall. Setting\n",
    "        beta to 2 weighs recall twice as much as precision. Setting beta to 0.5 weighs\n",
    "        precision twice as much as recall.\n",
    "        \"\"\"\n",
    "        ppv = self.precision()\n",
    "        tpr = self.recall()\n",
    "        if ppv is None or tpr is None:\n",
    "            return None\n",
    "        beta2 = beta ** 2\n",
    "\n",
    "        return ((beta2 + 1) * ppv * tpr) / ((beta2 * ppv) + tpr)\n",
    "\n",
    "    @staticmethod\n",
    "    def from_series(s: pd.Series) -> \"ConfusionMatrix\":\n",
    "        tp = s.get(\"TP\", 0)\n",
    "        fp = s.get(\"FP\", 0)\n",
    "        fn = s.get(\"FN\", 0)\n",
    "        tn = s.get(\"TN\", 0)\n",
    "        return ConfusionMatrix(tp=tp, fn=fn, fp=fp, tn=tn)\n",
    "\n",
    "\n",
    "def confidence_interval(n_s: int, n_f: int, conf: float = CONF) -> Tuple[float, float]:\n",
    "    \"\"\"Calculate the Wilson score interval.\n",
    "    Equation take from https://en.wikipedia.org/wiki/Binomial_proportion_confidence_interval#Wilson_score_interval\n",
    "    n_s: Number of successes or, in the case of confusion matrix statistics, the numerator\n",
    "    n_f: Number of failures or, in the case of confusion matrix statistics, the denominator minus the numerator\n",
    "    conf: the confidence level. i.e. 0.95 is 95% confidence\n",
    "    \"\"\"\n",
    "    n = n_f + n_s\n",
    "    z = stats.norm.ppf(1 - (1 - conf) / 2)  # two-sided\n",
    "    z2 = z ** 2\n",
    "    nz2 = n + z2\n",
    "    A = (n_s + (0.5 * z2)) / nz2\n",
    "    B = z / nz2\n",
    "    C = sqrt(((n_s * n_f) / n) + (z2 / 4))\n",
    "    CI = B * C\n",
    "    return A - CI, A + CI\n",
    "\n",
    "\n",
    "def round_up_to_base(x, base=10):\n",
    "    return int(x + (base - x) % base)\n",
    "\n",
    "\n",
    "def round_down_to_base(x, base=10):\n",
    "    return int(x - (x % base))"
   ]
  },
  {
   "cell_type": "code",
   "execution_count": 8,
   "id": "8a26eea0",
   "metadata": {},
   "outputs": [],
   "source": [
    "df = df.query(\"drug not in @ignore_drugs\")"
   ]
  },
  {
   "cell_type": "code",
   "execution_count": 9,
   "id": "dfd8b346",
   "metadata": {},
   "outputs": [],
   "source": [
    "classifier = Classifier(minor_is_susceptible=minor_is_susceptible)\n",
    "classifications = []\n",
    "for _, row in df.iterrows():\n",
    "    drug = row[\"drug\"].lower()\n",
    "    y_true = phenotypes.at[row[\"run\"], drug]\n",
    "    if pd.isna(y_true):\n",
    "        classifications.append(None)\n",
    "    else:\n",
    "        y_true = Prediction(y_true)\n",
    "        y_pred = Prediction(row[\"prediction\"])\n",
    "        clf = classifier.from_predictions(y_true, y_pred)\n",
    "        classifications.append(str(clf))"
   ]
  },
  {
   "cell_type": "code",
   "execution_count": 10,
   "id": "a80fe429",
   "metadata": {},
   "outputs": [],
   "source": [
    "df[\"classification\"] = classifications"
   ]
  },
  {
   "cell_type": "code",
   "execution_count": 11,
   "id": "a7f97434",
   "metadata": {},
   "outputs": [
    {
     "data": {
      "text/html": [
       "<div>\n",
       "<style scoped>\n",
       "    .dataframe tbody tr th:only-of-type {\n",
       "        vertical-align: middle;\n",
       "    }\n",
       "\n",
       "    .dataframe tbody tr th {\n",
       "        vertical-align: top;\n",
       "    }\n",
       "\n",
       "    .dataframe thead th {\n",
       "        text-align: right;\n",
       "    }\n",
       "</style>\n",
       "<table border=\"1\" class=\"dataframe\">\n",
       "  <thead>\n",
       "    <tr style=\"text-align: right;\">\n",
       "      <th></th>\n",
       "      <th>run</th>\n",
       "      <th>biosample</th>\n",
       "      <th>bioproject</th>\n",
       "      <th>panel</th>\n",
       "      <th>drug</th>\n",
       "      <th>prediction</th>\n",
       "      <th>classification</th>\n",
       "    </tr>\n",
       "  </thead>\n",
       "  <tbody>\n",
       "    <tr>\n",
       "      <th>0</th>\n",
       "      <td>ERR036186</td>\n",
       "      <td>SAMEA897802</td>\n",
       "      <td>PRJEB2358</td>\n",
       "      <td>who2021</td>\n",
       "      <td>Delamanid</td>\n",
       "      <td>S</td>\n",
       "      <td>None</td>\n",
       "    </tr>\n",
       "    <tr>\n",
       "      <th>1</th>\n",
       "      <td>ERR036186</td>\n",
       "      <td>SAMEA897802</td>\n",
       "      <td>PRJEB2358</td>\n",
       "      <td>who2021</td>\n",
       "      <td>Kanamycin</td>\n",
       "      <td>S</td>\n",
       "      <td>None</td>\n",
       "    </tr>\n",
       "    <tr>\n",
       "      <th>2</th>\n",
       "      <td>ERR036186</td>\n",
       "      <td>SAMEA897802</td>\n",
       "      <td>PRJEB2358</td>\n",
       "      <td>who2021</td>\n",
       "      <td>Amikacin</td>\n",
       "      <td>S</td>\n",
       "      <td>None</td>\n",
       "    </tr>\n",
       "    <tr>\n",
       "      <th>3</th>\n",
       "      <td>ERR036186</td>\n",
       "      <td>SAMEA897802</td>\n",
       "      <td>PRJEB2358</td>\n",
       "      <td>who2021</td>\n",
       "      <td>Ethambutol</td>\n",
       "      <td>S</td>\n",
       "      <td>TN</td>\n",
       "    </tr>\n",
       "    <tr>\n",
       "      <th>4</th>\n",
       "      <td>ERR036186</td>\n",
       "      <td>SAMEA897802</td>\n",
       "      <td>PRJEB2358</td>\n",
       "      <td>who2021</td>\n",
       "      <td>Ethionamide</td>\n",
       "      <td>S</td>\n",
       "      <td>None</td>\n",
       "    </tr>\n",
       "    <tr>\n",
       "      <th>...</th>\n",
       "      <td>...</td>\n",
       "      <td>...</td>\n",
       "      <td>...</td>\n",
       "      <td>...</td>\n",
       "      <td>...</td>\n",
       "      <td>...</td>\n",
       "      <td>...</td>\n",
       "    </tr>\n",
       "    <tr>\n",
       "      <th>324499</th>\n",
       "      <td>SRR7131298</td>\n",
       "      <td>SAMN09090624</td>\n",
       "      <td>PRJNA438921</td>\n",
       "      <td>hall2022</td>\n",
       "      <td>Levofloxacin</td>\n",
       "      <td>S</td>\n",
       "      <td>None</td>\n",
       "    </tr>\n",
       "    <tr>\n",
       "      <th>324500</th>\n",
       "      <td>SRR7131298</td>\n",
       "      <td>SAMN09090624</td>\n",
       "      <td>PRJNA438921</td>\n",
       "      <td>hall2022</td>\n",
       "      <td>Pyrazinamide</td>\n",
       "      <td>S</td>\n",
       "      <td>None</td>\n",
       "    </tr>\n",
       "    <tr>\n",
       "      <th>324501</th>\n",
       "      <td>SRR7131298</td>\n",
       "      <td>SAMN09090624</td>\n",
       "      <td>PRJNA438921</td>\n",
       "      <td>hall2022</td>\n",
       "      <td>Linezolid</td>\n",
       "      <td>S</td>\n",
       "      <td>None</td>\n",
       "    </tr>\n",
       "    <tr>\n",
       "      <th>324502</th>\n",
       "      <td>SRR7131298</td>\n",
       "      <td>SAMN09090624</td>\n",
       "      <td>PRJNA438921</td>\n",
       "      <td>hall2022</td>\n",
       "      <td>Rifampicin</td>\n",
       "      <td>S</td>\n",
       "      <td>TN</td>\n",
       "    </tr>\n",
       "    <tr>\n",
       "      <th>324503</th>\n",
       "      <td>SRR7131298</td>\n",
       "      <td>SAMN09090624</td>\n",
       "      <td>PRJNA438921</td>\n",
       "      <td>hall2022</td>\n",
       "      <td>Capreomycin</td>\n",
       "      <td>S</td>\n",
       "      <td>None</td>\n",
       "    </tr>\n",
       "  </tbody>\n",
       "</table>\n",
       "<p>285600 rows × 7 columns</p>\n",
       "</div>"
      ],
      "text/plain": [
       "               run     biosample   bioproject     panel          drug  \\\n",
       "0        ERR036186   SAMEA897802    PRJEB2358   who2021     Delamanid   \n",
       "1        ERR036186   SAMEA897802    PRJEB2358   who2021     Kanamycin   \n",
       "2        ERR036186   SAMEA897802    PRJEB2358   who2021      Amikacin   \n",
       "3        ERR036186   SAMEA897802    PRJEB2358   who2021    Ethambutol   \n",
       "4        ERR036186   SAMEA897802    PRJEB2358   who2021   Ethionamide   \n",
       "...            ...           ...          ...       ...           ...   \n",
       "324499  SRR7131298  SAMN09090624  PRJNA438921  hall2022  Levofloxacin   \n",
       "324500  SRR7131298  SAMN09090624  PRJNA438921  hall2022  Pyrazinamide   \n",
       "324501  SRR7131298  SAMN09090624  PRJNA438921  hall2022     Linezolid   \n",
       "324502  SRR7131298  SAMN09090624  PRJNA438921  hall2022    Rifampicin   \n",
       "324503  SRR7131298  SAMN09090624  PRJNA438921  hall2022   Capreomycin   \n",
       "\n",
       "       prediction classification  \n",
       "0               S           None  \n",
       "1               S           None  \n",
       "2               S           None  \n",
       "3               S             TN  \n",
       "4               S           None  \n",
       "...           ...            ...  \n",
       "324499          S           None  \n",
       "324500          S           None  \n",
       "324501          S           None  \n",
       "324502          S             TN  \n",
       "324503          S           None  \n",
       "\n",
       "[285600 rows x 7 columns]"
      ]
     },
     "execution_count": 11,
     "metadata": {},
     "output_type": "execute_result"
    }
   ],
   "source": [
    "df"
   ]
  },
  {
   "cell_type": "markdown",
   "id": "27b7618f",
   "metadata": {},
   "source": [
    "Now, let's look at cases where, for Isoniazid, the WHO catalogue calls S and the default Mykrobe catalogue calls R - i.e., stuff \"missing\" from the WHO catalogue"
   ]
  },
  {
   "cell_type": "code",
   "execution_count": 12,
   "id": "d77b5e34",
   "metadata": {},
   "outputs": [
    {
     "data": {
      "text/plain": [
       "1532"
      ]
     },
     "execution_count": 12,
     "metadata": {},
     "output_type": "execute_result"
    }
   ],
   "source": [
    "drug = \"Isoniazid\"\n",
    "who_fns = set(df.query(\"panel == 'who2021' and classification == 'FN'\")[[\"run\", \"drug\"]].to_records(index=False).tolist())\n",
    "# who_fns = set()\n",
    "len(who_fns)"
   ]
  },
  {
   "cell_type": "code",
   "execution_count": 13,
   "id": "53b6093d",
   "metadata": {},
   "outputs": [
    {
     "data": {
      "text/plain": [
       "137"
      ]
     },
     "execution_count": 13,
     "metadata": {},
     "output_type": "execute_result"
    }
   ],
   "source": [
    "mykrobe_tps = set()\n",
    "for _, row in df.query(\"panel == 'hunt2019' and classification != 'FN'\").iterrows():\n",
    "    ix = (row[\"run\"], row[\"drug\"])\n",
    "    if ix in who_fns:\n",
    "        mykrobe_tps.add(ix)\n",
    "len(mykrobe_tps)"
   ]
  },
  {
   "cell_type": "markdown",
   "id": "44a94ed9",
   "metadata": {},
   "source": [
    "This means 382/721 (~53%) of the WHO INH FNs were called TP by Mykrobe's default catalogue.\n",
    "\n",
    "Let's get a list of all of these mutations"
   ]
  },
  {
   "cell_type": "code",
   "execution_count": 14,
   "id": "f15d9a57",
   "metadata": {},
   "outputs": [
    {
     "data": {
      "text/plain": [
       "8611"
      ]
     },
     "execution_count": 14,
     "metadata": {},
     "output_type": "execute_result"
    }
   ],
   "source": [
    "mykrobe_jsons = dict()\n",
    "for p in Path(\"../../results/amr_predictions/hunt2019/\").rglob(\"*.mykrobe.json\"):\n",
    "    run = p.name.split(\".\")[0]\n",
    "    mykrobe_jsons[run] = p\n",
    "        \n",
    "len(mykrobe_jsons)"
   ]
  },
  {
   "cell_type": "code",
   "execution_count": 15,
   "id": "b36bbcec",
   "metadata": {},
   "outputs": [
    {
     "data": {
      "text/plain": [
       "8611"
      ]
     },
     "execution_count": 15,
     "metadata": {},
     "output_type": "execute_result"
    }
   ],
   "source": [
    "who_jsons = dict()\n",
    "for p in Path(\"../../results/amr_predictions/who2021/\").rglob(\"*.mykrobe.json\"):\n",
    "    run = p.name.split(\".\")[0]\n",
    "    who_jsons[run] = p\n",
    "        \n",
    "len(who_jsons)"
   ]
  },
  {
   "cell_type": "code",
   "execution_count": 26,
   "id": "7600e5b1",
   "metadata": {},
   "outputs": [
    {
     "name": "stdout",
     "output_type": "stream",
     "text": [
      "katG_CAACCCGT1803C-ACGGGTTG2154302G ../../results/amr_predictions/hunt2019/PRJEB5162/SAMEA2297114/ERR400543.mykrobe.json\n"
     ]
    }
   ],
   "source": [
    "all_variants = []\n",
    "for run, drug in mykrobe_tps:\n",
    "    j = mykrobe_jsons[run]\n",
    "    with open(j) as fp:\n",
    "        data = json.load(fp)\n",
    "        muts = list(data[run][\"susceptibility\"][drug][\"called_by\"].keys())\n",
    "        for m in muts:\n",
    "            all_variants.append((m.rsplit(\"-\", maxsplit=1)[0], drug))\n",
    "            if \"katG\" in m or \"pncA\" in m:\n",
    "                v = m.rsplit(\"-\", maxsplit=1)[0]\n",
    "                ref, pos, alt = split_var_name(v.split(\"_\")[1])\n",
    "                if len(ref) != len(alt):\n",
    "                    print(m, j)"
   ]
  },
  {
   "cell_type": "code",
   "execution_count": 25,
   "id": "947b555b",
   "metadata": {},
   "outputs": [
    {
     "data": {
      "text/plain": [
       "'katG_S315I'"
      ]
     },
     "execution_count": 25,
     "metadata": {},
     "output_type": "execute_result"
    }
   ],
   "source": [
    "v"
   ]
  },
  {
   "cell_type": "code",
   "execution_count": 17,
   "id": "e69d4e60",
   "metadata": {},
   "outputs": [
    {
     "data": {
      "text/plain": [
       "[(('ahpC_G-48A', 'Isoniazid'), 17),\n",
       " (('inhA_S94A', 'Isoniazid'), 11),\n",
       " (('ahpC_C-57T', 'Isoniazid'), 8),\n",
       " (('pncA_V139M', 'Pyrazinamide'), 7),\n",
       " (('katG_D142G', 'Isoniazid'), 6),\n",
       " (('rrs_C513X', 'Streptomycin'), 6),\n",
       " (('katG_S315I', 'Isoniazid'), 5),\n",
       " (('rrs_A514X', 'Streptomycin'), 5),\n",
       " (('embA_C-16G', 'Ethambutol'), 5),\n",
       " (('fabG1_G-17T', 'Isoniazid'), 4),\n",
       " (('ahpC_C-72T', 'Isoniazid'), 4),\n",
       " (('gid_A80P', 'Streptomycin'), 4),\n",
       " (('katG_P232R', 'Isoniazid'), 4),\n",
       " (('inhA_I194T', 'Isoniazid'), 4),\n",
       " (('katG_A109V', 'Isoniazid'), 3),\n",
       " (('gid_S149R', 'Streptomycin'), 2),\n",
       " (('gid_L26F', 'Streptomycin'), 2),\n",
       " (('gid_S136P', 'Streptomycin'), 2),\n",
       " (('katG_L141F', 'Isoniazid'), 2),\n",
       " (('pncA_D136V', 'Pyrazinamide'), 2),\n",
       " (('katG_W191G', 'Isoniazid'), 2),\n",
       " (('pncA_H57P', 'Pyrazinamide'), 2),\n",
       " (('katG_S315G', 'Isoniazid'), 2),\n",
       " (('katG_W191R', 'Isoniazid'), 2),\n",
       " (('katG_S315R', 'Isoniazid'), 2),\n",
       " (('katG_G125D', 'Isoniazid'), 1),\n",
       " (('gid_L79S', 'Streptomycin'), 1),\n",
       " (('pncA_A46P', 'Pyrazinamide'), 1),\n",
       " (('katG_R104Q', 'Isoniazid'), 1),\n",
       " (('rrs_A1401X', 'Amikacin'), 1),\n",
       " (('rrs_C517X', 'Streptomycin'), 1),\n",
       " (('gid_R47W', 'Streptomycin'), 1),\n",
       " (('embA_C-16T', 'Ethambutol'), 1),\n",
       " (('pncA_K96M', 'Pyrazinamide'), 1),\n",
       " (('pncA_L35P', 'Pyrazinamide'), 1),\n",
       " (('gid_A200E', 'Streptomycin'), 1),\n",
       " (('fabG1_T-8X', 'Isoniazid'), 1),\n",
       " (('katG_CAACCCGT1803C', 'Isoniazid'), 1),\n",
       " (('pncA_A171T', 'Pyrazinamide'), 1),\n",
       " (('pncA_CCG184CCC', 'Pyrazinamide'), 1),\n",
       " (('rrs_A1401X', 'Kanamycin'), 1),\n",
       " (('pncA_G108E', 'Pyrazinamide'), 1),\n",
       " (('pncA_R140P', 'Pyrazinamide'), 1),\n",
       " (('pncA_C14Y', 'Pyrazinamide'), 1),\n",
       " (('katG_W90R', 'Isoniazid'), 1),\n",
       " (('pncA_F58S', 'Pyrazinamide'), 1),\n",
       " (('rrs_A1401X', 'Capreomycin'), 1),\n",
       " (('gid_C52F', 'Streptomycin'), 1),\n",
       " (('gid_L79W', 'Streptomycin'), 1),\n",
       " (('embB_M306T', 'Ethambutol'), 1),\n",
       " (('pncA_R154M', 'Pyrazinamide'), 1),\n",
       " (('pncA_W119L', 'Pyrazinamide'), 1),\n",
       " (('pncA_H137R', 'Pyrazinamide'), 1)]"
      ]
     },
     "execution_count": 17,
     "metadata": {},
     "output_type": "execute_result"
    }
   ],
   "source": [
    "c = Counter(all_variants).most_common(1000)\n",
    "c"
   ]
  },
  {
   "cell_type": "code",
   "execution_count": 22,
   "id": "fd9c8415",
   "metadata": {},
   "outputs": [
    {
     "data": {
      "text/plain": [
       "53"
      ]
     },
     "execution_count": 22,
     "metadata": {},
     "output_type": "execute_result"
    }
   ],
   "source": [
    "len(c)"
   ]
  },
  {
   "cell_type": "code",
   "execution_count": 83,
   "id": "15cf1bfa",
   "metadata": {},
   "outputs": [],
   "source": [
    "with open(\"../../docs/who_fns.tsv\", \"w\") as fp:\n",
    "    print(\"\\t\".join([\"mutation\", \"drug\", \"num_fn\"]), file=fp)\n",
    "    for t, count in c:\n",
    "        mut, drug = t\n",
    "        print(\"\\t\".join([mut, drug, str(count)]), file=fp)"
   ]
  },
  {
   "cell_type": "markdown",
   "id": "b871062b",
   "metadata": {},
   "source": [
    "Get all RIF FPs from WHO"
   ]
  },
  {
   "cell_type": "code",
   "execution_count": 92,
   "id": "b17e53bf",
   "metadata": {},
   "outputs": [],
   "source": [
    "rif_fps = []\n",
    "for _, row in df.query(\"panel == 'who2021' and classification == 'FP' and drug =='Rifampicin'\").iterrows():\n",
    "    run = row[\"run\"]\n",
    "    j = who_jsons[run]\n",
    "    pred = row[\"prediction\"]\n",
    "    with open(j) as fp:\n",
    "        data = json.load(fp)\n",
    "        muts = list(data[run][\"susceptibility\"][\"Rifampicin\"][\"called_by\"].keys())\n",
    "        for m in muts:\n",
    "            rif_fps.append((m.rsplit(\"-\", maxsplit=1)[0], pred))"
   ]
  },
  {
   "cell_type": "code",
   "execution_count": 93,
   "id": "4f6da297",
   "metadata": {},
   "outputs": [
    {
     "data": {
      "text/plain": [
       "[('rpoB_S450L', 'R'),\n",
       " ('rpoB_T427P', 'r'),\n",
       " ('rpoB_T427P', 'r'),\n",
       " ('rpoB_H445D', 'R'),\n",
       " ('rpoB_L452P', 'r'),\n",
       " ('rpoB_H445N', 'R'),\n",
       " ('rpoB_H445D', 'R'),\n",
       " ('rpoB_H445N', 'R'),\n",
       " ('rpoB_S450L', 'R'),\n",
       " ('rpoB_S450L', 'R'),\n",
       " ('rpoB_L452P', 'R'),\n",
       " ('rpoB_L452P', 'R'),\n",
       " ('rpoB_H445S', 'R'),\n",
       " ('rpoB_S450L', 'R'),\n",
       " ('rpoB_H445N', 'R'),\n",
       " ('rpoB_S450L', 'R'),\n",
       " ('rpoB_L452P', 'R'),\n",
       " ('rpoB_H445Y', 'r'),\n",
       " ('rpoB_S450L', 'r'),\n",
       " ('rpoB_H445N', 'R'),\n",
       " ('rpoB_S450L', 'R'),\n",
       " ('rpoB_S450L', 'R'),\n",
       " ('rpoB_H445N', 'R'),\n",
       " ('rpoB_H445N', 'R'),\n",
       " ('rpoB_H445N', 'R'),\n",
       " ('rpoB_H445N', 'R'),\n",
       " ('rpoB_H445N', 'R'),\n",
       " ('rpoB_S450L', 'R'),\n",
       " ('rpoB_S450L', 'R'),\n",
       " ('rpoB_S450L', 'R'),\n",
       " ('rpoB_S450L', 'R'),\n",
       " ('rpoB_S450L', 'R'),\n",
       " ('rpoB_S450L', 'R'),\n",
       " ('rpoB_S450L', 'r'),\n",
       " ('rpoB_D435Y', 'R'),\n",
       " ('rpoB_S450L', 'R'),\n",
       " ('rpoB_H445D', 'R'),\n",
       " ('rpoB_L452P', 'R'),\n",
       " ('rpoB_S450L', 'R'),\n",
       " ('rpoB_S450L', 'R'),\n",
       " ('rpoB_S450L', 'R'),\n",
       " ('rpoB_H445N', 'R'),\n",
       " ('rpoB_H445N', 'R'),\n",
       " ('rpoB_L430P', 'R'),\n",
       " ('rpoB_T427P', 'r'),\n",
       " ('rpoB_H445N', 'R'),\n",
       " ('rpoB_H445N', 'R'),\n",
       " ('rpoB_T427P', 'r'),\n",
       " ('rpoB_L452P', 'R'),\n",
       " ('rpoB_L430P', 'R'),\n",
       " ('rpoB_T427P', 'r'),\n",
       " ('rpoB_T427P', 'r'),\n",
       " ('rpoB_T427P', 'r'),\n",
       " ('rpoB_H445L', 'R'),\n",
       " ('rpoB_T427P', 'r'),\n",
       " ('rpoB_T427P', 'r'),\n",
       " ('rpoB_T427P', 'r'),\n",
       " ('rpoB_S450L', 'R'),\n",
       " ('rpoB_T427P', 'r'),\n",
       " ('rpoB_T427P', 'r'),\n",
       " ('rpoB_S450L', 'r'),\n",
       " ('rpoB_T444P', 'r'),\n",
       " ('rpoB_N438T', 'r'),\n",
       " ('rpoB_S450A', 'r'),\n",
       " ('rpoB_T444P', 'r'),\n",
       " ('rpoB_L449Q', 'r'),\n",
       " ('rpoB_T444P', 'r'),\n",
       " ('rpoB_K446M', 'r'),\n",
       " ('rpoB_T444P', 'r'),\n",
       " ('rpoB_K446M', 'r'),\n",
       " ('rpoB_K446M', 'r'),\n",
       " ('rpoB_T444P', 'r'),\n",
       " ('rpoB_T444P', 'r'),\n",
       " ('rpoB_K446M', 'r'),\n",
       " ('rpoB_T444P', 'r'),\n",
       " ('rpoB_L449Q', 'r'),\n",
       " ('rpoB_L449Q', 'r'),\n",
       " ('rpoB_T444P', 'r'),\n",
       " ('rpoB_K446M', 'r'),\n",
       " ('rpoB_S450A', 'r'),\n",
       " ('rpoB_T444P', 'r'),\n",
       " ('rpoB_T444P', 'r'),\n",
       " ('rpoB_T444P', 'r'),\n",
       " ('rpoB_T444P', 'r'),\n",
       " ('rpoB_K446M', 'r'),\n",
       " ('rpoB_L449Q', 'r'),\n",
       " ('rpoB_L449Q', 'r'),\n",
       " ('rpoB_D435H', 'r'),\n",
       " ('rpoB_T444P', 'r'),\n",
       " ('rpoB_T444P', 'r'),\n",
       " ('rpoB_S450P', 'r'),\n",
       " ('rpoB_Q432L', 'r'),\n",
       " ('rpoB_T444P', 'r'),\n",
       " ('rpoB_T444P', 'r'),\n",
       " ('rpoB_Q432L', 'r'),\n",
       " ('rpoB_T444P', 'r'),\n",
       " ('rpoB_T444P', 'r'),\n",
       " ('rpoB_S450A', 'r'),\n",
       " ('rpoB_L449Q', 'r'),\n",
       " ('rpoB_S450A', 'r'),\n",
       " ('rpoB_K446M', 'r'),\n",
       " ('rpoB_L449Q', 'r'),\n",
       " ('rpoB_L449Q', 'r'),\n",
       " ('rpoB_T444P', 'r'),\n",
       " ('rpoB_T444P', 'r'),\n",
       " ('rpoB_K446M', 'r'),\n",
       " ('rpoB_T444P', 'r'),\n",
       " ('rpoB_T444P', 'r'),\n",
       " ('rpoB_L443M', 'r'),\n",
       " ('rpoB_K446M', 'r'),\n",
       " ('rpoB_K446M', 'r'),\n",
       " ('rpoB_L449Q', 'r'),\n",
       " ('rpoB_T444P', 'r'),\n",
       " ('rpoB_K446M', 'r'),\n",
       " ('rpoB_T444P', 'r'),\n",
       " ('rpoB_F433I', 'r'),\n",
       " ('rpoB_T444P', 'r'),\n",
       " ('rpoB_K446M', 'r'),\n",
       " ('rpoB_T444P', 'r'),\n",
       " ('rpoB_K446M', 'r'),\n",
       " ('rpoB_T444P', 'r'),\n",
       " ('rpoB_K446M', 'r'),\n",
       " ('rpoB_N438T', 'r'),\n",
       " ('rpoB_T444P', 'r'),\n",
       " ('rpoB_S450A', 'r'),\n",
       " ('rpoB_T444P', 'r'),\n",
       " ('rpoB_T444P', 'r'),\n",
       " ('rpoB_K446M', 'r'),\n",
       " ('rpoB_T444P', 'r'),\n",
       " ('rpoB_S450A', 'r'),\n",
       " ('rpoB_S450C', 'R'),\n",
       " ('rpoB_L449Q', 'r'),\n",
       " ('rpoB_S450L', 'R'),\n",
       " ('rpoB_S450L', 'R'),\n",
       " ('rpoB_L449Q', 'r'),\n",
       " ('rpoB_H445S', 'R'),\n",
       " ('rpoB_D435V', 'r'),\n",
       " ('rpoB_D435V', 'r'),\n",
       " ('rpoB_L449Q', 'r'),\n",
       " ('rpoB_D435V', 'r'),\n",
       " ('rpoB_L449Q', 'r'),\n",
       " ('rpoB_L449Q', 'r'),\n",
       " ('rpoB_TCGGCAC1274T', 'R'),\n",
       " ('rpoB_L449Q', 'r'),\n",
       " ('rpoB_S431G', 'r'),\n",
       " ('rpoB_L449Q', 'r'),\n",
       " ('rpoB_Q429*', 'r'),\n",
       " ('rpoB_L440R', 'r'),\n",
       " ('rpoB_L449Q', 'r'),\n",
       " ('rpoB_M434I', 'r'),\n",
       " ('rpoB_L449Q', 'r'),\n",
       " ('rpoB_L449Q', 'r'),\n",
       " ('rpoB_S431R', 'r'),\n",
       " ('rpoB_L449Q', 'r'),\n",
       " ('rpoB_D435V', 'R'),\n",
       " ('rpoB_K446T', 'r'),\n",
       " ('rpoB_D435Y', 'R'),\n",
       " ('rpoB_K446T', 'r')]"
      ]
     },
     "execution_count": 93,
     "metadata": {},
     "output_type": "execute_result"
    }
   ],
   "source": [
    "rif_fps"
   ]
  },
  {
   "cell_type": "code",
   "execution_count": 94,
   "id": "92f09bcc",
   "metadata": {},
   "outputs": [],
   "source": [
    "with open(\"who_rif_fps.tsv\", \"w\") as fp:\n",
    "    print(\"mutation\\tprediction\", file=fp)\n",
    "    for mut, pred in rif_fps:\n",
    "        print(f\"{mut}\\t{pred}\", file=fp)"
   ]
  },
  {
   "cell_type": "markdown",
   "id": "4fd198b3",
   "metadata": {},
   "source": [
    "Look at the levofloxacin FPs"
   ]
  },
  {
   "cell_type": "code",
   "execution_count": 36,
   "id": "8cc700e7",
   "metadata": {},
   "outputs": [],
   "source": [
    "lfx_fps = []\n",
    "drug = \"Levofloxacin\"\n",
    "for _, row in df.query(\"panel == 'who2021' and classification == 'FP' and drug ==@drug\").iterrows():\n",
    "    run = row[\"run\"]\n",
    "    j = who_jsons[run]\n",
    "    pred = row[\"prediction\"]\n",
    "    with open(j) as fp:\n",
    "        data = json.load(fp)\n",
    "        muts = list(data[run][\"susceptibility\"][drug][\"called_by\"].keys())\n",
    "        for m in muts:\n",
    "            lfx_fps.append((m.rsplit(\"-\", maxsplit=1)[0], pred))"
   ]
  },
  {
   "cell_type": "code",
   "execution_count": 37,
   "id": "1eeb9a85",
   "metadata": {},
   "outputs": [
    {
     "data": {
      "text/plain": [
       "[(('gyrA_A90V', 'R'), 6),\n",
       " (('gyrA_D94A', 'R'), 5),\n",
       " (('gyrA_A90V', 'r'), 5),\n",
       " (('gyrA_D94A', 'r'), 2),\n",
       " (('gyrA_S91P', 'r'), 2),\n",
       " (('gyrA_S91P', 'R'), 1)]"
      ]
     },
     "execution_count": 37,
     "metadata": {},
     "output_type": "execute_result"
    }
   ],
   "source": [
    "Counter(lfx_fps).most_common(50)"
   ]
  },
  {
   "cell_type": "markdown",
   "id": "4b09b5ae",
   "metadata": {},
   "source": [
    "Load the WHO catalogue and see if these variants exist in the catalogue"
   ]
  },
  {
   "cell_type": "code",
   "execution_count": 19,
   "id": "58df4c89",
   "metadata": {},
   "outputs": [],
   "source": [
    "catalogue = defaultdict(list)\n",
    "with open(\"../../docs/who-panel.tsv\") as fp:\n",
    "    _ = next(fp)\n",
    "    for line in map(str.rstrip, fp):\n",
    "        fields = line.split(\"\\t\")\n",
    "        ref, pos, alt = split_var_name(fields[1])\n",
    "        catalogue[(fields[0], pos)].append((ref, alt, int(fields[-1]), fields[3]))\n",
    "        "
   ]
  },
  {
   "cell_type": "code",
   "execution_count": 21,
   "id": "e4db7ae8",
   "metadata": {},
   "outputs": [
    {
     "name": "stdout",
     "output_type": "stream",
     "text": [
      "[X] ahpC_G-48A exactly found in catalogue: ('G', 'A', 3, 'isoniazid')\n",
      "inhA_S94A exactly found for different drug: ('S', 'A', 2, 'ethionamide')\n",
      "[X] inhA_S94A exactly found in catalogue: ('S', 'A', 3, 'isoniazid')\n",
      "[X] ahpC_C-57T exactly found in catalogue: ('C', 'T', 3, 'isoniazid')\n",
      "[X] pncA_V139M exactly found in catalogue: ('V', 'M', 3, 'pyrazinamide')\n",
      "[X] katG_D142G exactly found in catalogue: ('D', 'G', 3, 'isoniazid')\n",
      "[X] katG_S315I exactly found in catalogue: ('S', 'I', 3, 'isoniazid')\n",
      "[X] embA_C-16G exactly found in catalogue: ('C', 'G', 3, 'ethambutol')\n",
      "fabG1_G-17T exactly found for different drug: ('G', 'T', 3, 'ethionamide')\n",
      "[X] fabG1_G-17T exactly found in catalogue: ('G', 'T', 3, 'isoniazid')\n",
      "[X] ahpC_C-72T exactly found in catalogue: ('C', 'T', 3, 'isoniazid')\n",
      "[X] gid_A80P exactly found in catalogue: ('A', 'P', 3, 'streptomycin')\n",
      "[X] katG_P232R exactly found in catalogue: ('P', 'R', 3, 'isoniazid')\n",
      "inhA_I194T exactly found for different drug: ('I', 'T', 3, 'ethionamide')\n",
      "[X] inhA_I194T exactly found in catalogue: ('I', 'T', 3, 'isoniazid')\n",
      "[X] katG_A109V exactly found in catalogue: ('A', 'V', 3, 'isoniazid')\n",
      "[X] gid_S149R exactly found in catalogue: ('S', 'R', 3, 'streptomycin')\n",
      "[X] gid_L26F exactly found in catalogue: ('L', 'F', 3, 'streptomycin')\n",
      "[X] gid_S136P exactly found in catalogue: ('S', 'P', 3, 'streptomycin')\n",
      "[X] katG_L141F exactly found in catalogue: ('L', 'F', 3, 'isoniazid')\n",
      "[X] pncA_D136V exactly found in catalogue: ('D', 'V', 3, 'pyrazinamide')\n",
      "[X] katG_W191G exactly found in catalogue: ('W', 'G', 3, 'isoniazid')\n",
      "[X] pncA_H57P exactly found in catalogue: ('H', 'P', 3, 'pyrazinamide')\n",
      "[X] katG_S315G exactly found in catalogue: ('S', 'G', 3, 'isoniazid')\n",
      "[X] katG_W191R exactly found in catalogue: ('W', 'R', 3, 'isoniazid')\n",
      "[X] katG_S315R exactly found in catalogue: ('S', 'R', 3, 'isoniazid')\n",
      "[X] katG_G125D exactly found in catalogue: ('G', 'D', 3, 'isoniazid')\n",
      "[X] gid_L79S exactly found in catalogue: ('L', 'S', 3, 'streptomycin')\n",
      "[X] katG_R104Q exactly found in catalogue: ('R', 'Q', 3, 'isoniazid')\n",
      "[X] gid_R47W exactly found in catalogue: ('R', 'W', 3, 'streptomycin')\n",
      "[X] embA_C-16T exactly found in catalogue: ('C', 'T', 3, 'ethambutol')\n",
      "[X] pncA_L35P exactly found in catalogue: ('L', 'P', 3, 'pyrazinamide')\n",
      "[X] gid_A200E exactly found in catalogue: ('A', 'E', 3, 'streptomycin')\n",
      "katG_CAACCCGT1803C not in catalogue\n",
      "[X] pncA_A171T exactly found in catalogue: ('A', 'T', 3, 'pyrazinamide')\n",
      "pncA_CCG184CCC not in catalogue\n",
      "[X] pncA_G108E exactly found in catalogue: ('G', 'E', 3, 'pyrazinamide')\n",
      "[X] pncA_R140P exactly found in catalogue: ('R', 'P', 3, 'pyrazinamide')\n",
      "[X] katG_W90R exactly found in catalogue: ('W', 'R', 3, 'isoniazid')\n",
      "[X] pncA_F58S exactly found in catalogue: ('F', 'S', 3, 'pyrazinamide')\n",
      "[X] gid_C52F exactly found in catalogue: ('C', 'F', 3, 'streptomycin')\n",
      "[X] gid_L79W exactly found in catalogue: ('L', 'W', 3, 'streptomycin')\n",
      "[X] embB_M306T exactly found in catalogue: ('M', 'T', 3, 'ethambutol')\n",
      "[X] pncA_H137R exactly found in catalogue: ('H', 'R', 3, 'pyrazinamide')\n"
     ]
    }
   ],
   "source": [
    "n_not_in_cat = 0\n",
    "for (mut, drug), count in c:\n",
    "    gene, var = mut.split(\"_\")\n",
    "    ref, pos, alt = split_var_name(var)\n",
    "    cat_vars = catalogue.get((gene, pos))\n",
    "    if cat_vars is None:\n",
    "        print(f\"{mut} not in catalogue\")\n",
    "        n_not_in_cat += count\n",
    "    else:\n",
    "        for v in cat_vars:\n",
    "            if v[0] == ref and v[1] == alt:\n",
    "                if v[-1] == drug.lower():\n",
    "                    print(f\"[X] {mut} exactly found in catalogue: {v}\")\n",
    "                else:\n",
    "                    print(f\"{mut} exactly found for different drug: {v}\")\n",
    "            else:\n",
    "                continue\n",
    "#         print(f\"{mut} in catalogue with variants: {cat_vars}\")"
   ]
  },
  {
   "cell_type": "code",
   "execution_count": 51,
   "id": "72df0228",
   "metadata": {},
   "outputs": [
    {
     "data": {
      "text/plain": [
       "309"
      ]
     },
     "execution_count": 51,
     "metadata": {},
     "output_type": "execute_result"
    }
   ],
   "source": [
    "n_not_in_cat"
   ]
  },
  {
   "cell_type": "code",
   "execution_count": null,
   "id": "535ea21a",
   "metadata": {},
   "outputs": [],
   "source": []
  }
 ],
 "metadata": {
  "kernelspec": {
   "display_name": "Python 3 (ipykernel)",
   "language": "python",
   "name": "python3"
  },
  "language_info": {
   "codemirror_mode": {
    "name": "ipython",
    "version": 3
   },
   "file_extension": ".py",
   "mimetype": "text/x-python",
   "name": "python",
   "nbconvert_exporter": "python",
   "pygments_lexer": "ipython3",
   "version": "3.9.13"
  }
 },
 "nbformat": 4,
 "nbformat_minor": 5
}
