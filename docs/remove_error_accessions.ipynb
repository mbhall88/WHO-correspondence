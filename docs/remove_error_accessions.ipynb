{
 "cells": [
  {
   "cell_type": "code",
   "execution_count": 19,
   "id": "9157ee00",
   "metadata": {},
   "outputs": [],
   "source": [
    "import ast\n",
    "import re\n",
    "from dataclasses import dataclass\n",
    "from enum import Enum\n",
    "from typing import Union"
   ]
  },
  {
   "cell_type": "code",
   "execution_count": 23,
   "id": "b1bcf809",
   "metadata": {},
   "outputs": [],
   "source": [
    "class AccessionType(Enum):\n",
    "    BIOPROJECT = re.compile(r\"PRJ([EDN])[A-Z]\\d+\")\n",
    "    STUDY = re.compile(r\"([EDS])RP\\d{6,}\")\n",
    "    BIOSAMPLE = re.compile(r\"SAM([EDN])[A-Z]?\\d+\")\n",
    "    SAMPLE = re.compile(r\"([EDS])RS\\d{6,}\")\n",
    "    EXPERIMENT = re.compile(r\"([EDS])RX\\d{6,}\")\n",
    "    RUN = re.compile(r\"([EDS])RR\\d{6,}\")\n",
    "\n",
    "    @staticmethod\n",
    "    def from_str(s: str) -> \"AccessionType\":\n",
    "        for member in AccessionType:\n",
    "            regex = member.value\n",
    "            if regex.search(s):\n",
    "                return member\n",
    "        return None\n",
    "\n",
    "\n",
    "@dataclass\n",
    "class Accession:\n",
    "    run: str = \"\"\n",
    "    sample: str = \"\"\n",
    "    biosample: str = \"\"\n",
    "    experiment: str = \"\"\n",
    "    bioproject: str = \"\"\n",
    "    study: str = \"\"\n",
    "\n",
    "    @staticmethod\n",
    "    def from_line(s: str, delim: str = \",\") -> \"Accession\":\n",
    "        acc = Accession()\n",
    "        fields = [f for f in s.rstrip().split(delim) if f]\n",
    "        for f in fields:\n",
    "            acc_type = AccessionType.from_str(f)\n",
    "            if acc_type is None:\n",
    "                continue\n",
    "            if acc_type is AccessionType.BIOSAMPLE:\n",
    "                acc.biosample = f\n",
    "            elif acc_type is AccessionType.RUN:\n",
    "                acc.run = f\n",
    "            elif acc_type is AccessionType.EXPERIMENT:\n",
    "                acc.experiment = f\n",
    "            elif acc_type is AccessionType.SAMPLE:\n",
    "                acc.sample = f\n",
    "            elif acc_type is AccessionType.STUDY:\n",
    "                acc.study = f\n",
    "            elif acc_type is AccessionType.BIOPROJECT:\n",
    "                acc.bioproject = f\n",
    "\n",
    "        return acc\n",
    "\n",
    "    def most_specific(self) -> Union[tuple[str, AccessionType], tuple[str, None]]:\n",
    "        \"\"\"Returns the most specific accession\"\"\"\n",
    "        if self.run:\n",
    "            return self.run, AccessionType.RUN\n",
    "        elif self.experiment:\n",
    "            return self.experiment, AccessionType.EXPERIMENT\n",
    "        elif self.biosample:\n",
    "            return self.biosample, AccessionType.BIOSAMPLE\n",
    "        elif self.sample:\n",
    "            return self.sample, AccessionType.SAMPLE\n",
    "        elif self.bioproject:\n",
    "            return self.bioproject, AccessionType.BIOPROJECT\n",
    "        elif self.study:\n",
    "            return self.study, AccessionType.STUDY\n",
    "        else:\n",
    "            return \"\", None\n",
    "\n",
    "    def to_row(self, delim: str = \",\") -> str:\n",
    "        return delim.join(\n",
    "            [\n",
    "                self.bioproject,\n",
    "                self.study,\n",
    "                self.biosample,\n",
    "                self.sample,\n",
    "                self.experiment,\n",
    "                self.run,\n",
    "            ]\n",
    "        )"
   ]
  },
  {
   "cell_type": "code",
   "execution_count": 24,
   "id": "fb1cac1a",
   "metadata": {},
   "outputs": [],
   "source": [
    "no_results_accs = set()\n",
    "with open(\"fill_who_sheet.o\") as fp:\n",
    "    for line in fp:\n",
    "        if line.startswith(\"No results\"):\n",
    "            j = next(fp).strip()\n",
    "            d = ast.literal_eval(j)\n",
    "            no_results_accs.add(d[\"accession\"])"
   ]
  },
  {
   "cell_type": "code",
   "execution_count": 25,
   "id": "dc145df6",
   "metadata": {},
   "outputs": [
    {
     "data": {
      "text/plain": [
       "179"
      ]
     },
     "execution_count": 25,
     "metadata": {},
     "output_type": "execute_result"
    }
   ],
   "source": [
    "len(no_results_accs)"
   ]
  },
  {
   "cell_type": "code",
   "execution_count": 36,
   "id": "3d9e3fdc",
   "metadata": {
    "scrolled": false
   },
   "outputs": [],
   "source": [
    "to_delete = set()\n",
    "with open(\"who-samplesheet-filled.csv\") as fp:\n",
    "    n_fields = len(next(fp).split(\",\"))\n",
    "    for row in map(str.rstrip, fp):\n",
    "        assert n_fields == len(row.split(\",\"))\n",
    "        \n",
    "        for a in no_results_accs:\n",
    "            if a in row:\n",
    "                t = AccessionType.from_str(a)\n",
    "                acc = Accession.from_line(row)\n",
    "                msa, mst = acc.most_specific()\n",
    "                if mst is not AccessionType.RUN:\n",
    "                    to_delete.add(a)"
   ]
  },
  {
   "cell_type": "code",
   "execution_count": 37,
   "id": "099d3e88",
   "metadata": {},
   "outputs": [
    {
     "data": {
      "text/plain": [
       "141"
      ]
     },
     "execution_count": 37,
     "metadata": {},
     "output_type": "execute_result"
    }
   ],
   "source": [
    "len(to_delete)"
   ]
  },
  {
   "cell_type": "code",
   "execution_count": 39,
   "id": "ca608672",
   "metadata": {},
   "outputs": [],
   "source": [
    "with open(\"to_delete.txt\", \"w\") as fp:\n",
    "    for a in to_delete:\n",
    "        print(a.strip(), file=fp)"
   ]
  },
  {
   "cell_type": "code",
   "execution_count": null,
   "id": "e16a1d57",
   "metadata": {},
   "outputs": [],
   "source": []
  }
 ],
 "metadata": {
  "kernelspec": {
   "display_name": "Python 3 (ipykernel)",
   "language": "python",
   "name": "python3"
  },
  "language_info": {
   "codemirror_mode": {
    "name": "ipython",
    "version": 3
   },
   "file_extension": ".py",
   "mimetype": "text/x-python",
   "name": "python",
   "nbconvert_exporter": "python",
   "pygments_lexer": "ipython3",
   "version": "3.9.13"
  }
 },
 "nbformat": 4,
 "nbformat_minor": 5
}
